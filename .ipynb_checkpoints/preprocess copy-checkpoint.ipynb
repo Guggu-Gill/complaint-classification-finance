{
 "cells": [
  {
   "cell_type": "code",
   "execution_count": 5,
   "id": "799b8586",
   "metadata": {},
   "outputs": [],
   "source": [
    "import numpy as np\n",
    "import pandas as pd\n",
    "import matplotlib.pyplot as plt\n",
    "import seaborn as sns\n",
    "import plotly.express as px\n",
    "import tensorflow as tf\n",
    "from sklearn import preprocessing\n",
    "from sklearn.preprocessing import OneHotEncoder\n",
    "import re\n",
    "from sklearn import preprocessing\n",
    "from tqdm import tqdm\n",
    "import scipy\n",
    "\n",
    "import tensorflow as tf\n",
    "import tensorflow_hub as hub"
   ]
  },
  {
   "cell_type": "code",
   "execution_count": 6,
   "id": "1f762ab1",
   "metadata": {},
   "outputs": [
    {
     "name": "stdout",
     "output_type": "stream",
     "text": [
      "Test_one_hot.npz    test_embd.npy       train_embd_1.npy    train_embd_3.npy\r\n",
      "Train_one_hot.npz   test_narrative.csv  train_embd_2.npy    train_narrative.csv\r\n"
     ]
    }
   ],
   "source": [
    "!ls new_data"
   ]
  },
  {
   "cell_type": "code",
   "execution_count": 8,
   "id": "4f37de25",
   "metadata": {},
   "outputs": [
    {
     "data": {
      "text/plain": [
       "array([['train_embd_1.npy'],\n",
       "       ['train_embd_2.npy'],\n",
       "       ['train_embd_3.npy']], dtype='<U16')"
      ]
     },
     "execution_count": 8,
     "metadata": {},
     "output_type": "execute_result"
    }
   ],
   "source": [
    "np.vstack((np.load(\"train_embd_1.npy\",\"train_embd_2.npy\",\"train_embd_3.npy\"))"
   ]
  },
  {
   "cell_type": "code",
   "execution_count": 58,
   "id": "55d7270f",
   "metadata": {},
   "outputs": [
    {
     "name": "stderr",
     "output_type": "stream",
     "text": [
      "/var/folders/k4/29bygr_s3mv0rn4yh7_rvtmm0000gn/T/ipykernel_9618/1968609510.py:1: DtypeWarning: Columns (10) have mixed types. Specify dtype option on import or set low_memory=False.\n",
      "  df=pd.read_csv(\"compl.csv\",)\n"
     ]
    }
   ],
   "source": [
    "df=pd.read_csv(\"compl.csv\",)"
   ]
  },
  {
   "cell_type": "code",
   "execution_count": 59,
   "id": "5f88f59e",
   "metadata": {},
   "outputs": [
    {
     "data": {
      "text/html": [
       "<div>\n",
       "<style scoped>\n",
       "    .dataframe tbody tr th:only-of-type {\n",
       "        vertical-align: middle;\n",
       "    }\n",
       "\n",
       "    .dataframe tbody tr th {\n",
       "        vertical-align: top;\n",
       "    }\n",
       "\n",
       "    .dataframe thead th {\n",
       "        text-align: right;\n",
       "    }\n",
       "</style>\n",
       "<table border=\"1\" class=\"dataframe\">\n",
       "  <thead>\n",
       "    <tr style=\"text-align: right;\">\n",
       "      <th></th>\n",
       "      <th>Unnamed: 0</th>\n",
       "      <th>Date received</th>\n",
       "      <th>Product</th>\n",
       "      <th>Sub-product</th>\n",
       "      <th>Issue</th>\n",
       "      <th>Sub-issue</th>\n",
       "      <th>Consumer complaint narrative</th>\n",
       "      <th>Company public response</th>\n",
       "      <th>Company</th>\n",
       "      <th>State</th>\n",
       "      <th>ZIP code</th>\n",
       "      <th>Tags</th>\n",
       "      <th>Consumer consent provided?</th>\n",
       "      <th>Submitted via</th>\n",
       "      <th>Date sent to company</th>\n",
       "      <th>Company response to consumer</th>\n",
       "      <th>Timely response?</th>\n",
       "      <th>Consumer disputed?</th>\n",
       "      <th>Complaint ID</th>\n",
       "    </tr>\n",
       "  </thead>\n",
       "  <tbody>\n",
       "    <tr>\n",
       "      <th>0</th>\n",
       "      <td>45</td>\n",
       "      <td>2020-10-28</td>\n",
       "      <td>Debt collection</td>\n",
       "      <td>I do not know</td>\n",
       "      <td>Communication tactics</td>\n",
       "      <td>Frequent or repeated calls</td>\n",
       "      <td>STOP ALL CALLS</td>\n",
       "      <td>NaN</td>\n",
       "      <td>Lending Club Corp</td>\n",
       "      <td>FL</td>\n",
       "      <td>33309.0</td>\n",
       "      <td>NaN</td>\n",
       "      <td>Consent provided</td>\n",
       "      <td>Web</td>\n",
       "      <td>2020-10-28</td>\n",
       "      <td>Closed with non-monetary relief</td>\n",
       "      <td>No</td>\n",
       "      <td>NaN</td>\n",
       "      <td>4485088</td>\n",
       "    </tr>\n",
       "    <tr>\n",
       "      <th>1</th>\n",
       "      <td>90</td>\n",
       "      <td>2020-10-29</td>\n",
       "      <td>Debt collection</td>\n",
       "      <td>Medical debt</td>\n",
       "      <td>Attempts to collect debt not owed</td>\n",
       "      <td>Debt is not yours</td>\n",
       "      <td>Original creditor : XXXX XXXX XXXX XXXX  XXXX ...</td>\n",
       "      <td>NaN</td>\n",
       "      <td>Dynamic Recovery Solutions, LLC</td>\n",
       "      <td>NJ</td>\n",
       "      <td>8322.0</td>\n",
       "      <td>NaN</td>\n",
       "      <td>Consent provided</td>\n",
       "      <td>Web</td>\n",
       "      <td>2020-10-29</td>\n",
       "      <td>Closed with non-monetary relief</td>\n",
       "      <td>Yes</td>\n",
       "      <td>NaN</td>\n",
       "      <td>4496460</td>\n",
       "    </tr>\n",
       "    <tr>\n",
       "      <th>2</th>\n",
       "      <td>124</td>\n",
       "      <td>2020-07-27</td>\n",
       "      <td>Money transfer, virtual currency, or money ser...</td>\n",
       "      <td>Mobile or digital wallet</td>\n",
       "      <td>Unexpected or other fees</td>\n",
       "      <td>NaN</td>\n",
       "      <td>On XX/XX/2020, I sold a bike using XXXX XXXX. ...</td>\n",
       "      <td>NaN</td>\n",
       "      <td>Paypal Holdings, Inc</td>\n",
       "      <td>TX</td>\n",
       "      <td>76137.0</td>\n",
       "      <td>NaN</td>\n",
       "      <td>Consent provided</td>\n",
       "      <td>Web</td>\n",
       "      <td>2020-07-27</td>\n",
       "      <td>Closed with non-monetary relief</td>\n",
       "      <td>Yes</td>\n",
       "      <td>NaN</td>\n",
       "      <td>5018142</td>\n",
       "    </tr>\n",
       "  </tbody>\n",
       "</table>\n",
       "</div>"
      ],
      "text/plain": [
       "   Unnamed: 0 Date received  \\\n",
       "0          45    2020-10-28   \n",
       "1          90    2020-10-29   \n",
       "2         124    2020-07-27   \n",
       "\n",
       "                                             Product  \\\n",
       "0                                    Debt collection   \n",
       "1                                    Debt collection   \n",
       "2  Money transfer, virtual currency, or money ser...   \n",
       "\n",
       "                Sub-product                              Issue  \\\n",
       "0             I do not know              Communication tactics   \n",
       "1              Medical debt  Attempts to collect debt not owed   \n",
       "2  Mobile or digital wallet           Unexpected or other fees   \n",
       "\n",
       "                    Sub-issue  \\\n",
       "0  Frequent or repeated calls   \n",
       "1           Debt is not yours   \n",
       "2                         NaN   \n",
       "\n",
       "                        Consumer complaint narrative Company public response  \\\n",
       "0                                     STOP ALL CALLS                     NaN   \n",
       "1  Original creditor : XXXX XXXX XXXX XXXX  XXXX ...                     NaN   \n",
       "2  On XX/XX/2020, I sold a bike using XXXX XXXX. ...                     NaN   \n",
       "\n",
       "                           Company State ZIP code Tags  \\\n",
       "0                Lending Club Corp    FL  33309.0  NaN   \n",
       "1  Dynamic Recovery Solutions, LLC    NJ   8322.0  NaN   \n",
       "2             Paypal Holdings, Inc    TX  76137.0  NaN   \n",
       "\n",
       "  Consumer consent provided? Submitted via Date sent to company  \\\n",
       "0           Consent provided           Web           2020-10-28   \n",
       "1           Consent provided           Web           2020-10-29   \n",
       "2           Consent provided           Web           2020-07-27   \n",
       "\n",
       "      Company response to consumer Timely response? Consumer disputed?  \\\n",
       "0  Closed with non-monetary relief               No                NaN   \n",
       "1  Closed with non-monetary relief              Yes                NaN   \n",
       "2  Closed with non-monetary relief              Yes                NaN   \n",
       "\n",
       "   Complaint ID  \n",
       "0       4485088  \n",
       "1       4496460  \n",
       "2       5018142  "
      ]
     },
     "execution_count": 59,
     "metadata": {},
     "output_type": "execute_result"
    }
   ],
   "source": [
    "df.head(3)"
   ]
  },
  {
   "cell_type": "code",
   "execution_count": 60,
   "id": "4e40f3ff",
   "metadata": {},
   "outputs": [],
   "source": [
    "df=df.drop(\"Unnamed: 0\",axis=1)"
   ]
  },
  {
   "cell_type": "code",
   "execution_count": 61,
   "id": "ce15869c",
   "metadata": {},
   "outputs": [
    {
     "data": {
      "text/plain": [
       "(976684, 18)"
      ]
     },
     "execution_count": 61,
     "metadata": {},
     "output_type": "execute_result"
    }
   ],
   "source": [
    "df.shape"
   ]
  },
  {
   "cell_type": "code",
   "execution_count": 62,
   "id": "92614b38",
   "metadata": {},
   "outputs": [],
   "source": [
    "# df=df[df['Consumer disputed?'].notna()]\n",
    "# df=df.drop([\"Complaint ID\",\"Timely response?\",\"Date sent to company\",\"Tags\",\"Submitted via\",\"Company public response\",\"Consumer consent provided?\",\"Sub-issue\"],axis=1)"
   ]
  },
  {
   "cell_type": "code",
   "execution_count": 63,
   "id": "939f24db",
   "metadata": {},
   "outputs": [],
   "source": [
    "# df.isna().sum()"
   ]
  },
  {
   "cell_type": "code",
   "execution_count": 64,
   "id": "d0adfa4f",
   "metadata": {},
   "outputs": [
    {
     "data": {
      "text/plain": [
       "Index(['Date received', 'Product', 'Sub-product', 'Issue', 'Sub-issue',\n",
       "       'Consumer complaint narrative', 'Company public response', 'Company',\n",
       "       'State', 'ZIP code', 'Tags', 'Consumer consent provided?',\n",
       "       'Submitted via', 'Date sent to company', 'Company response to consumer',\n",
       "       'Timely response?', 'Consumer disputed?', 'Complaint ID'],\n",
       "      dtype='object')"
      ]
     },
     "execution_count": 64,
     "metadata": {},
     "output_type": "execute_result"
    }
   ],
   "source": [
    "df.columns"
   ]
  },
  {
   "cell_type": "code",
   "execution_count": 65,
   "id": "161c9da5",
   "metadata": {},
   "outputs": [],
   "source": [
    "COLN=['Date received','Product','Sub-product','Issue','Consumer complaint narrative','Company','State','ZIP code','Company response to consumer','Consumer disputed?']\n",
    "# ONE_HOT_ENC=['product','sub-product','issue', 'company', 'state','response']\n",
    "ONE_HOT_ENC=['product','sub-product','issue', 'state','response']\n",
    "FILL_MISSING=[\"sub-product\",\"state\",\"zip-code\",\"narrative\"]\n",
    "def print_unique_values(df,coln):\n",
    "    arr=np.unique(df[coln].to_list())\n",
    "    for i in range(len(arr)):\n",
    "        print(i,\"--\",arr[i])\n",
    "    del arr\n",
    "    \n",
    "#pre processing function\n",
    "def fill_in_missing(df,coln):\n",
    "    df[coln]=df[coln].fillna(\"\")\n",
    "    return df\n",
    "    \n",
    "\n",
    "def transform_name(df):\n",
    "    df=df[df['Consumer disputed?'].notna()]\n",
    "    df=df.drop([\"Complaint ID\",\"Timely response?\",\"Date sent to company\",\"Tags\",\"Submitted via\",\"Company public response\",\"Consumer consent provided?\",\"Sub-issue\"],axis=1)\n",
    "    df.columns=['date-received', 'product', 'sub-product', 'issue','narrative', 'company', 'state', 'zip-code','response', 'disputed']\n",
    "    return df\n",
    "\n",
    "def one_hot_enc(df,coln):\n",
    "    enc = OneHotEncoder(handle_unknown='ignore')\n",
    "    enc.fit(np.array(df[coln]))\n",
    "    s=enc.transform(np.array(df[coln]))\n",
    "    return s.toarray()\n",
    "\n",
    "def binarize_target(x):\n",
    "    lb = preprocessing.LabelBinarizer()\n",
    "    lb.fit(['No','Yes'])\n",
    "    return lb.transform(x)\n",
    "\n",
    "\n",
    "def convert_zip_code(zip_code):\n",
    "    if zip_code == '':\n",
    "        zip_code = \"00000\"\n",
    "    zip_code=re.sub(\"[^0-9]\", \"\",zip_code)\n",
    "    zip_code = re.sub(r'X{0,5}', \"0\", zip_code)\n",
    "    zip_code = np.float32(zip_code)\n",
    "    return zip_code\n"
   ]
  },
  {
   "cell_type": "code",
   "execution_count": 66,
   "id": "4bec946a",
   "metadata": {},
   "outputs": [
    {
     "data": {
      "text/plain": [
       "80901010.0"
      ]
     },
     "execution_count": 66,
     "metadata": {},
     "output_type": "execute_result"
    }
   ],
   "source": [
    "convert_zip_code(\"89-11\")"
   ]
  },
  {
   "cell_type": "code",
   "execution_count": 67,
   "id": "9ef2c450",
   "metadata": {},
   "outputs": [],
   "source": [
    "# Credits https://www.kaggle.com/code/ashwinids/cleaning-exploring-consumer-complaints-data\n",
    "mapping_old2new = {\n",
    "    \"Auto\": \"Auto debt\",\n",
    "    \"Credit card\": \"Credit card debt\",\n",
    "    \"Federal student loan\": \"Federal student loan debt\",\n",
    "    \"Medical\": \"Medical debt\",\n",
    "    \"Mortgage\": \"Mortgage debt\",\n",
    "    \"Non-federal student loan\": \"Private student loan debt\",\n",
    "    \"Other (i.e. phone, health club, etc.)\": \"Other debt\",\n",
    "    \"Payday loan\": \"Payday loan debt\",\n",
    "    \"Non-federal student loan\": \"Private student loan\",\n",
    "    \"Federal student loan servicing\": \"Federal student loan\",\n",
    "    \"Credit repair\": \"Credit repair services\",\n",
    "    \"Credit reporting\": \"Credit reporting\",\n",
    "    \"Conventional adjustable mortgage (ARM)\": \"Conventional home mortgage\",\n",
    "    \"Conventional fixed mortgage\": \"Conventional home mortgage\",\n",
    "    \"Home equity loan or line of credit\": \"Home equity loan or line of credit (HELOC)\",\n",
    "    \"Other\": \"Other type of mortgage\",\n",
    "    \"Other mortgage\": \"Other type of mortgage\",\n",
    "    \"Second mortgage\":\"Other type of mortgage\",\n",
    "    \"Credit card\": \"General-purpose credit card or charge card\",\n",
    "    \"General purpose card\": \"General-purpose prepaid card\",\n",
    "    \"Gift or merchant card\": \"Gift card\",\n",
    "    \"Electronic Benefit Transfer / EBT card\": \"Government benefit card\",\n",
    "    \"Government benefit payment card\": \"Government benefit card\",\n",
    "    \"ID prepaid card\": \"Student prepaid card\",\n",
    "    \"Other special purpose card\":  \"Other prepaid card\",\n",
    "    \"Store credit card\": \"Other prepaid card\",\n",
    "    \"Transit card\": \"Other prepaid card\",\n",
    "    \"(CD) Certificate of deposit\": \"CD (Certificate of Deposit)\",\n",
    "    \"Other bank product/service\": \"Other banking product or service\",\n",
    "    \"Cashing a check without an account\": \"Other banking product or service\",\n",
    "    \"Vehicle lease\": \"Lease\",\n",
    "    \"Vehicle loan\": \"Loan\",\n",
    "    \"Check cashing\": \"Check cashing service\",\n",
    "    \"Mobile wallet\": \"Mobile or digital wallet\",\n",
    "    \"Traveler’s/Cashier’s checks\": \"Traveler's check or cashier's check\"\n",
    "}\n",
    "prod2sub = {\n",
    "    \"Auto debt\": \"Debt collection\",\n",
    "    \"Credit card debt\": \"Debt collection\",\n",
    "    \"Federal student loan debt\": \"Debt collection\",\n",
    "    \"I do not know\": \"Debt collection\",\n",
    "    \"Medical debt\": \"Debt collection\",\n",
    "    \"Mortgage debt\": \"Debt collection\",\n",
    "    \"Private student loan debt\": \"Debt collection\",\n",
    "    \"Other debt\": \"Debt collection\",\n",
    "    \"Payday loan debt\": \"Debt collection\",\n",
    "    \"Credit repair services\": \"Credit reporting, credit repair services, or other personal consumer reports\",\n",
    "    \"Credit reporting\": \"Credit reporting, credit repair services, or other personal consumer reports\",\n",
    "    \"Other personal consumer report\": \"Credit reporting, credit repair services, or other personal consumer reports\",\n",
    "    \"Conventional home mortgage\": \"Mortgage\",\n",
    "    \"FHA mortgage\": \"Mortgage\",\n",
    "    \"Home equity loan or line of credit (HELOC)\": \"Mortgage\",\n",
    "    \"Other type of mortgage\": \"Mortgage\",\n",
    "    \"Reverse mortgage\": \"Mortgage\",\n",
    "    \"VA mortgage\": \"Mortgage\",\n",
    "    \"General-purpose credit card or charge card\": \"Credit card or prepaid card\",\n",
    "    \"General-purpose prepaid card\": \"Credit card or prepaid card\",\n",
    "    \"Gift card\": \"Credit card or prepaid card\",\n",
    "    \"Government benefit card\": \"Credit card or prepaid card\",\n",
    "    \"Student prepaid card\": \"Credit card or prepaid card\",\n",
    "    \"Payroll card\": \"Credit card or prepaid card\",\n",
    "    \"Other prepaid card\": \"Credit card or prepaid card\",\n",
    "    \"CD (Certificate of Deposit)\": \"Checking or savings account\",\n",
    "    \"Checking account\": \"Checking or savings account\",\n",
    "    \"Other banking product or service\": \"Checking or savings account\",\n",
    "    \"Savings account\": \"Checking or savings account\",\n",
    "    \"Lease\": \"Vehicle loan or lease\",\n",
    "    \"Loan\": \"Vehicle loan or lease\",\n",
    "    \"Federal student loan\": \"Student loan\",\n",
    "    \"Private student loan\": \"Student loan\",\n",
    "    \"Installment loan\": \"Payday loan, title loan, or personal loan\",\n",
    "    \"Pawn loan\": \"Payday loan, title loan, or personal loan\",\n",
    "    \"Payday loan\": \"Payday loan, title loan, or personal loan\",\n",
    "    \"Personal line of credit\": \"Payday loan, title loan, or personal loan\",\n",
    "    \"Title loan\": \"Payday loan, title loan, or personal loan\",\n",
    "    \"Check cashing service\": \"Money transfer, virtual currency, or money service\",\n",
    "    \"Debt settlement\": \"Money transfer, virtual currency, or money service\",\n",
    "    \"Domestic (US) money transfer\": \"Money transfer, virtual currency, or money service\",\n",
    "    \"Foreign currency exchange\": \"Money transfer, virtual currency, or money service\",\n",
    "    \"International money transfer\": \"Money transfer, virtual currency, or money service\",\n",
    "    \"Mobile or digital wallet\": \"Money transfer, virtual currency, or money service\",\n",
    "    \"Money order\": \"Money transfer, virtual currency, or money service\",\n",
    "    \"Refund anticipation check\": \"Money transfer, virtual currency, or money service\",\n",
    "    \"Traveler's check or cashier's check\": \"Money transfer, virtual currency, or money service\",\n",
    "    \"Virtual currency\": \"Money transfer, virtual currency, or money service\",\n",
    "    \"Not given\":\"Not given\"\n",
    "}\n",
    "\n",
    "# Credits https://www.kaggle.com/code/ashwinids/cleaning-exploring-consumer-complaints-data\n",
    "\n",
    "def get_subprods(x):\n",
    "    \n",
    "    if x['sub-product'] in mapping_old2new:\n",
    "        if x['sub-product']==\"Other\":\n",
    "            if x['product']=='Mortage':\n",
    "                return(\"Other type of mortgage\")\n",
    "            else:\n",
    "                return(\"Other debt\")\n",
    "        else:\n",
    "            return(mapping_old2new[x['sub-product']])\n",
    "    else:\n",
    "        return(x['sub-product'])\n",
    "\n",
    "\n",
    "\n",
    "# Credits https://www.kaggle.com/code/ashwinids/cleaning-exploring-consumer-complaints-data\n",
    "\n",
    "prodmap = {\n",
    "    \"Payday loan\": \"Payday loan, title loan, or personal loan\",\n",
    "    \"Credit reporting\": \"Credit reporting, credit repair services, or other personal consumer reports\",\n",
    "    \"Credit card\": \"Credit card or prepaid card\"\n",
    "}\n",
    "def get_product(x):\n",
    "    \n",
    "    if not isinstance(x['sub-product'], str):\n",
    "        if x['product'] in prodmap:\n",
    "            return(prodmap[x['product']])\n",
    "        else:\n",
    "            return(x['product'])\n",
    "    else:\n",
    "        return(prod2sub[x['sub-product']])\n",
    "\n"
   ]
  },
  {
   "cell_type": "code",
   "execution_count": 68,
   "id": "96e5b019",
   "metadata": {},
   "outputs": [],
   "source": [
    "def map_values(df):\n",
    "    df['sub-product'] = df[['product','sub-product']].apply(lambda x: get_subprods(x), axis =1)\n",
    "    df['product'] = df[['product','sub-product']].apply(lambda x: get_product(x), axis =1)\n",
    "    return df"
   ]
  },
  {
   "cell_type": "code",
   "execution_count": 78,
   "id": "b017242d",
   "metadata": {},
   "outputs": [],
   "source": [
    "def preprocess(df):\n",
    "    df=transform_name(df)\n",
    "    df=map_values(df)\n",
    "    df=fill_in_missing(df,FILL_MISSING)\n",
    "    #time based splitting\n",
    "    df=df.sort_values(\"date-received\")\n",
    "    train=df.iloc[0:int(np.floor(df.shape[0]*0.67)),:]\n",
    "    test=df.iloc[int(np.floor(df.shape[0]*0.67)):,:]\n",
    "    #time based splitting\n",
    "    return train,test\n",
    "\n",
    "    \n",
    "    \n",
    "\n",
    "def preprocess_2(df,filename):\n",
    "    arr=[]\n",
    "    lent=df.shape[0]\n",
    "    zip_code=list(map(str,df['zip-code'].tolist()))\n",
    "    for i in tqdm(range(0,lent)):\n",
    "        arr.append(convert_zip_code(zip_code[i]))\n",
    "    arr=np.array(arr)\n",
    "    del zip_code\n",
    "    \n",
    "    frst=one_hot_enc(train,ONE_HOT_ENC)\n",
    "    scnd=np.array(arr)\n",
    "    del arr\n",
    "    \n",
    "    arr2=[]\n",
    "    for i in tqdm(range(scnd.shape[0])):\n",
    "        arr2.append(np.concatenate((frst[i],[scnd[i]]),axis=0))\n",
    "    arr2=np.array(arr2)\n",
    "    del frst \n",
    "    del scnd\n",
    "    \n",
    "    sparse_matrix=scipy.sparse.csc_matrix(np.array(arr2))\n",
    "    del arr2\n",
    "    scipy.sparse.save_npz(filename,sparse_matrix)\n",
    "#     np.save(filename,sparse_matrix)\n"
   ]
  },
  {
   "cell_type": "code",
   "execution_count": 70,
   "id": "58e028c4",
   "metadata": {},
   "outputs": [
    {
     "data": {
      "text/plain": [
       "Date received                     2730\n",
       "Product                             18\n",
       "Sub-product                         75\n",
       "Issue                              160\n",
       "Sub-issue                          216\n",
       "Consumer complaint narrative    861635\n",
       "Company public response             11\n",
       "Company                           5336\n",
       "State                               63\n",
       "ZIP code                         56563\n",
       "Tags                                 3\n",
       "Consumer consent provided?           1\n",
       "Submitted via                        1\n",
       "Date sent to company              2723\n",
       "Company response to consumer         6\n",
       "Timely response?                     2\n",
       "Consumer disputed?                   2\n",
       "Complaint ID                    976684\n",
       "dtype: int64"
      ]
     },
     "execution_count": 70,
     "metadata": {},
     "output_type": "execute_result"
    }
   ],
   "source": [
    "df.nunique()"
   ]
  },
  {
   "cell_type": "code",
   "execution_count": 71,
   "id": "86b9339c",
   "metadata": {},
   "outputs": [],
   "source": [
    "train,test=preprocess(df)\n",
    "# del train\n",
    "del df"
   ]
  },
  {
   "cell_type": "code",
   "execution_count": 72,
   "id": "86c75b59",
   "metadata": {},
   "outputs": [
    {
     "data": {
      "text/plain": [
       "date-received       554\n",
       "product               9\n",
       "sub-product          43\n",
       "issue                90\n",
       "narrative        107873\n",
       "company            2747\n",
       "state                63\n",
       "zip-code          30120\n",
       "response              5\n",
       "disputed              2\n",
       "dtype: int64"
      ]
     },
     "execution_count": 72,
     "metadata": {},
     "output_type": "execute_result"
    }
   ],
   "source": [
    "train.nunique()"
   ]
  },
  {
   "cell_type": "code",
   "execution_count": 73,
   "id": "07a7a8a9",
   "metadata": {},
   "outputs": [
    {
     "data": {
      "text/html": [
       "<div>\n",
       "<style scoped>\n",
       "    .dataframe tbody tr th:only-of-type {\n",
       "        vertical-align: middle;\n",
       "    }\n",
       "\n",
       "    .dataframe tbody tr th {\n",
       "        vertical-align: top;\n",
       "    }\n",
       "\n",
       "    .dataframe thead th {\n",
       "        text-align: right;\n",
       "    }\n",
       "</style>\n",
       "<table border=\"1\" class=\"dataframe\">\n",
       "  <thead>\n",
       "    <tr style=\"text-align: right;\">\n",
       "      <th></th>\n",
       "      <th>date-received</th>\n",
       "      <th>product</th>\n",
       "      <th>sub-product</th>\n",
       "      <th>issue</th>\n",
       "      <th>narrative</th>\n",
       "      <th>company</th>\n",
       "      <th>state</th>\n",
       "      <th>zip-code</th>\n",
       "      <th>response</th>\n",
       "      <th>disputed</th>\n",
       "    </tr>\n",
       "  </thead>\n",
       "  <tbody>\n",
       "    <tr>\n",
       "      <th>610188</th>\n",
       "      <td>2015-03-19</td>\n",
       "      <td>Mortgage</td>\n",
       "      <td>Conventional home mortgage</td>\n",
       "      <td>Credit decision / Underwriting</td>\n",
       "      <td>XXXX was submitted XX/XX/XXXX. At the time I s...</td>\n",
       "      <td>RUSHMORE LOAN MANAGEMENT SERVICES LLC</td>\n",
       "      <td>CA</td>\n",
       "      <td>95648.0</td>\n",
       "      <td>Closed with explanation</td>\n",
       "      <td>Yes</td>\n",
       "    </tr>\n",
       "    <tr>\n",
       "      <th>132888</th>\n",
       "      <td>2015-03-19</td>\n",
       "      <td>Credit card or prepaid card</td>\n",
       "      <td></td>\n",
       "      <td>Other</td>\n",
       "      <td>I applied for a credit card and was accepted f...</td>\n",
       "      <td>UNITED SERVICES AUTOMOBILE ASSOCIATION</td>\n",
       "      <td>AK</td>\n",
       "      <td>99827</td>\n",
       "      <td>Closed with non-monetary relief</td>\n",
       "      <td>No</td>\n",
       "    </tr>\n",
       "  </tbody>\n",
       "</table>\n",
       "</div>"
      ],
      "text/plain": [
       "       date-received                      product                 sub-product  \\\n",
       "610188    2015-03-19                     Mortgage  Conventional home mortgage   \n",
       "132888    2015-03-19  Credit card or prepaid card                               \n",
       "\n",
       "                                 issue  \\\n",
       "610188  Credit decision / Underwriting   \n",
       "132888                           Other   \n",
       "\n",
       "                                                narrative  \\\n",
       "610188  XXXX was submitted XX/XX/XXXX. At the time I s...   \n",
       "132888  I applied for a credit card and was accepted f...   \n",
       "\n",
       "                                       company state zip-code  \\\n",
       "610188   RUSHMORE LOAN MANAGEMENT SERVICES LLC    CA  95648.0   \n",
       "132888  UNITED SERVICES AUTOMOBILE ASSOCIATION    AK    99827   \n",
       "\n",
       "                               response disputed  \n",
       "610188          Closed with explanation      Yes  \n",
       "132888  Closed with non-monetary relief       No  "
      ]
     },
     "execution_count": 73,
     "metadata": {},
     "output_type": "execute_result"
    }
   ],
   "source": [
    "train.head(2)"
   ]
  },
  {
   "cell_type": "code",
   "execution_count": 79,
   "id": "8320f537",
   "metadata": {},
   "outputs": [
    {
     "name": "stderr",
     "output_type": "stream",
     "text": [
      "100%|███████████████████████████████| 109921/109921 [00:00<00:00, 333357.50it/s]\n",
      "100%|███████████████████████████████| 109921/109921 [00:00<00:00, 301906.35it/s]\n"
     ]
    }
   ],
   "source": [
    "preprocess_2(train,'Train_new_fn')"
   ]
  },
  {
   "cell_type": "code",
   "execution_count": 82,
   "id": "ee1d3a3c",
   "metadata": {},
   "outputs": [
    {
     "name": "stderr",
     "output_type": "stream",
     "text": [
      "100%|█████████████████████████████████| 54141/54141 [00:00<00:00, 330918.88it/s]\n",
      "100%|█████████████████████████████████| 54141/54141 [00:00<00:00, 308733.26it/s]\n"
     ]
    }
   ],
   "source": [
    "preprocess_2(test,'Test_new_fn')"
   ]
  },
  {
   "cell_type": "code",
   "execution_count": null,
   "id": "8f6ece2d",
   "metadata": {},
   "outputs": [],
   "source": [
    "train.to_csv(\"train_fn_new\")\n",
    "tes.to_csv(\"train_fn_new\")"
   ]
  },
  {
   "cell_type": "code",
   "execution_count": 81,
   "id": "99e96685",
   "metadata": {},
   "outputs": [
    {
     "data": {
      "text/plain": [
       "(109921, 211)"
      ]
     },
     "execution_count": 81,
     "metadata": {},
     "output_type": "execute_result"
    }
   ],
   "source": [
    "scipy.sparse.load_npz(\"Train_new_fn.npz\").shape"
   ]
  },
  {
   "cell_type": "code",
   "execution_count": 83,
   "id": "347d2fb6",
   "metadata": {},
   "outputs": [
    {
     "data": {
      "text/plain": [
       "(54141, 211)"
      ]
     },
     "execution_count": 83,
     "metadata": {},
     "output_type": "execute_result"
    }
   ],
   "source": [
    "scipy.sparse.load_npz(\"Test_new_fn.npz\").shape"
   ]
  },
  {
   "cell_type": "code",
   "execution_count": 12,
   "id": "1d608d8d",
   "metadata": {},
   "outputs": [
    {
     "data": {
      "text/plain": [
       "Index(['date-received', 'product', 'sub-product', 'issue', 'narrative',\n",
       "       'company', 'state', 'zip-code', 'response', 'disputed'],\n",
       "      dtype='object')"
      ]
     },
     "execution_count": 12,
     "metadata": {},
     "output_type": "execute_result"
    }
   ],
   "source": [
    "train.columns"
   ]
  },
  {
   "cell_type": "code",
   "execution_count": 13,
   "id": "215d6847",
   "metadata": {},
   "outputs": [
    {
     "data": {
      "text/plain": [
       "date-received     1515\n",
       "product              9\n",
       "sub-product         42\n",
       "issue               95\n",
       "narrative        57826\n",
       "company           3468\n",
       "state               63\n",
       "zip-code         39485\n",
       "response             7\n",
       "disputed             2\n",
       "dtype: int64"
      ]
     },
     "execution_count": 13,
     "metadata": {},
     "output_type": "execute_result"
    }
   ],
   "source": [
    "train.nunique() "
   ]
  },
  {
   "cell_type": "code",
   "execution_count": 79,
   "id": "42fbe9ff",
   "metadata": {},
   "outputs": [
    {
     "data": {
      "text/plain": [
       "['product', 'sub-product', 'issue', 'state', 'response']"
      ]
     },
     "execution_count": 79,
     "metadata": {},
     "output_type": "execute_result"
    }
   ],
   "source": [
    "ONE_HOT_ENC"
   ]
  },
  {
   "cell_type": "code",
   "execution_count": null,
   "id": "1f4df9a8",
   "metadata": {},
   "outputs": [],
   "source": [
    "train.nunique() "
   ]
  },
  {
   "cell_type": "code",
   "execution_count": 24,
   "id": "3e5a313f",
   "metadata": {},
   "outputs": [
    {
     "data": {
      "text/plain": [
       "(514866, 10)"
      ]
     },
     "execution_count": 24,
     "metadata": {},
     "output_type": "execute_result"
    }
   ],
   "source": [
    "train.shape"
   ]
  },
  {
   "cell_type": "code",
   "execution_count": 25,
   "id": "b41ed2b2",
   "metadata": {},
   "outputs": [
    {
     "data": {
      "text/plain": [
       "(253591, 10)"
      ]
     },
     "execution_count": 25,
     "metadata": {},
     "output_type": "execute_result"
    }
   ],
   "source": [
    "test.shape"
   ]
  },
  {
   "cell_type": "code",
   "execution_count": 13,
   "id": "095521cf",
   "metadata": {},
   "outputs": [
    {
     "data": {
      "text/html": [
       "<div>\n",
       "<style scoped>\n",
       "    .dataframe tbody tr th:only-of-type {\n",
       "        vertical-align: middle;\n",
       "    }\n",
       "\n",
       "    .dataframe tbody tr th {\n",
       "        vertical-align: top;\n",
       "    }\n",
       "\n",
       "    .dataframe thead th {\n",
       "        text-align: right;\n",
       "    }\n",
       "</style>\n",
       "<table border=\"1\" class=\"dataframe\">\n",
       "  <thead>\n",
       "    <tr style=\"text-align: right;\">\n",
       "      <th></th>\n",
       "      <th>date-received</th>\n",
       "      <th>product</th>\n",
       "      <th>sub-product</th>\n",
       "      <th>issue</th>\n",
       "      <th>narrative</th>\n",
       "      <th>company</th>\n",
       "      <th>state</th>\n",
       "      <th>zip-code</th>\n",
       "      <th>response</th>\n",
       "      <th>disputed</th>\n",
       "    </tr>\n",
       "  </thead>\n",
       "  <tbody>\n",
       "    <tr>\n",
       "      <th>1230226</th>\n",
       "      <td>2011-12-01</td>\n",
       "      <td>Mortgage</td>\n",
       "      <td>Other type of mortgage</td>\n",
       "      <td>Settlement process and costs</td>\n",
       "      <td></td>\n",
       "      <td>JPMORGAN CHASE &amp; CO.</td>\n",
       "      <td>NJ</td>\n",
       "      <td>07882</td>\n",
       "      <td>Closed with relief</td>\n",
       "      <td>No</td>\n",
       "    </tr>\n",
       "    <tr>\n",
       "      <th>1053933</th>\n",
       "      <td>2011-12-01</td>\n",
       "      <td>Credit card or prepaid card</td>\n",
       "      <td></td>\n",
       "      <td>APR or interest rate</td>\n",
       "      <td></td>\n",
       "      <td>BARCLAYS BANK DELAWARE</td>\n",
       "      <td>OH</td>\n",
       "      <td>44107</td>\n",
       "      <td>Closed without relief</td>\n",
       "      <td>Yes</td>\n",
       "    </tr>\n",
       "    <tr>\n",
       "      <th>2552754</th>\n",
       "      <td>2011-12-01</td>\n",
       "      <td>Credit card or prepaid card</td>\n",
       "      <td></td>\n",
       "      <td>Credit determination</td>\n",
       "      <td></td>\n",
       "      <td>CITIBANK, N.A.</td>\n",
       "      <td>FL</td>\n",
       "      <td>33442.0</td>\n",
       "      <td>Closed with relief</td>\n",
       "      <td>No</td>\n",
       "    </tr>\n",
       "    <tr>\n",
       "      <th>709745</th>\n",
       "      <td>2011-12-01</td>\n",
       "      <td>Credit card or prepaid card</td>\n",
       "      <td></td>\n",
       "      <td>Credit determination</td>\n",
       "      <td></td>\n",
       "      <td>JPMORGAN CHASE &amp; CO.</td>\n",
       "      <td>VA</td>\n",
       "      <td>23089</td>\n",
       "      <td>Closed without relief</td>\n",
       "      <td>No</td>\n",
       "    </tr>\n",
       "    <tr>\n",
       "      <th>1201345</th>\n",
       "      <td>2011-12-01</td>\n",
       "      <td>Credit card or prepaid card</td>\n",
       "      <td></td>\n",
       "      <td>Transaction issue</td>\n",
       "      <td></td>\n",
       "      <td>BANK OF AMERICA, NATIONAL ASSOCIATION</td>\n",
       "      <td>TX</td>\n",
       "      <td>78249</td>\n",
       "      <td>Closed without relief</td>\n",
       "      <td>No</td>\n",
       "    </tr>\n",
       "    <tr>\n",
       "      <th>...</th>\n",
       "      <td>...</td>\n",
       "      <td>...</td>\n",
       "      <td>...</td>\n",
       "      <td>...</td>\n",
       "      <td>...</td>\n",
       "      <td>...</td>\n",
       "      <td>...</td>\n",
       "      <td>...</td>\n",
       "      <td>...</td>\n",
       "      <td>...</td>\n",
       "    </tr>\n",
       "    <tr>\n",
       "      <th>458424</th>\n",
       "      <td>2016-01-23</td>\n",
       "      <td>Credit card or prepaid card</td>\n",
       "      <td>General-purpose prepaid card</td>\n",
       "      <td>Adding money</td>\n",
       "      <td>The company promised free reloads upon initiat...</td>\n",
       "      <td>AMERICAN EXPRESS COMPANY</td>\n",
       "      <td>TN</td>\n",
       "      <td>37620</td>\n",
       "      <td>Closed with explanation</td>\n",
       "      <td>No</td>\n",
       "    </tr>\n",
       "    <tr>\n",
       "      <th>1066158</th>\n",
       "      <td>2016-01-23</td>\n",
       "      <td>Credit reporting, credit repair services, or o...</td>\n",
       "      <td></td>\n",
       "      <td>Incorrect information on credit report</td>\n",
       "      <td></td>\n",
       "      <td>TRANSUNION INTERMEDIATE HOLDINGS, INC.</td>\n",
       "      <td>NC</td>\n",
       "      <td>27612</td>\n",
       "      <td>Closed with explanation</td>\n",
       "      <td>No</td>\n",
       "    </tr>\n",
       "    <tr>\n",
       "      <th>747544</th>\n",
       "      <td>2016-01-23</td>\n",
       "      <td>Mortgage</td>\n",
       "      <td>Conventional home mortgage</td>\n",
       "      <td>Loan servicing, payments, escrow account</td>\n",
       "      <td>I have a rental property valued at {$50000.00}...</td>\n",
       "      <td>WELLS FARGO &amp; COMPANY</td>\n",
       "      <td>VA</td>\n",
       "      <td>23608.0</td>\n",
       "      <td>Closed with explanation</td>\n",
       "      <td>No</td>\n",
       "    </tr>\n",
       "    <tr>\n",
       "      <th>705491</th>\n",
       "      <td>2016-01-23</td>\n",
       "      <td>Mortgage</td>\n",
       "      <td>Home equity loan or line of credit (HELOC)</td>\n",
       "      <td>Application, originator, mortgage broker</td>\n",
       "      <td>To whom it may concern, I feel that freedom mo...</td>\n",
       "      <td>Freedom Mortgage Company</td>\n",
       "      <td>CA</td>\n",
       "      <td>95687</td>\n",
       "      <td>Closed with explanation</td>\n",
       "      <td>No</td>\n",
       "    </tr>\n",
       "    <tr>\n",
       "      <th>469993</th>\n",
       "      <td>2016-01-23</td>\n",
       "      <td>Credit card or prepaid card</td>\n",
       "      <td>General-purpose credit card or charge card</td>\n",
       "      <td>Communication tactics</td>\n",
       "      <td>HOW DO YOU LIKE THIS -- I REQUESTED MULTIPLE T...</td>\n",
       "      <td>LTD Financial Services, LP</td>\n",
       "      <td>TX</td>\n",
       "      <td>77523</td>\n",
       "      <td>Closed with non-monetary relief</td>\n",
       "      <td>Yes</td>\n",
       "    </tr>\n",
       "  </tbody>\n",
       "</table>\n",
       "<p>514866 rows × 10 columns</p>\n",
       "</div>"
      ],
      "text/plain": [
       "        date-received                                            product  \\\n",
       "1230226    2011-12-01                                           Mortgage   \n",
       "1053933    2011-12-01                        Credit card or prepaid card   \n",
       "2552754    2011-12-01                        Credit card or prepaid card   \n",
       "709745     2011-12-01                        Credit card or prepaid card   \n",
       "1201345    2011-12-01                        Credit card or prepaid card   \n",
       "...               ...                                                ...   \n",
       "458424     2016-01-23                        Credit card or prepaid card   \n",
       "1066158    2016-01-23  Credit reporting, credit repair services, or o...   \n",
       "747544     2016-01-23                                           Mortgage   \n",
       "705491     2016-01-23                                           Mortgage   \n",
       "469993     2016-01-23                        Credit card or prepaid card   \n",
       "\n",
       "                                        sub-product  \\\n",
       "1230226                      Other type of mortgage   \n",
       "1053933                                               \n",
       "2552754                                               \n",
       "709745                                                \n",
       "1201345                                               \n",
       "...                                             ...   \n",
       "458424                 General-purpose prepaid card   \n",
       "1066158                                               \n",
       "747544                   Conventional home mortgage   \n",
       "705491   Home equity loan or line of credit (HELOC)   \n",
       "469993   General-purpose credit card or charge card   \n",
       "\n",
       "                                            issue  \\\n",
       "1230226              Settlement process and costs   \n",
       "1053933                      APR or interest rate   \n",
       "2552754                      Credit determination   \n",
       "709745                       Credit determination   \n",
       "1201345                         Transaction issue   \n",
       "...                                           ...   \n",
       "458424                               Adding money   \n",
       "1066158    Incorrect information on credit report   \n",
       "747544   Loan servicing, payments, escrow account   \n",
       "705491   Application, originator, mortgage broker   \n",
       "469993                      Communication tactics   \n",
       "\n",
       "                                                 narrative  \\\n",
       "1230226                                                      \n",
       "1053933                                                      \n",
       "2552754                                                      \n",
       "709745                                                       \n",
       "1201345                                                      \n",
       "...                                                    ...   \n",
       "458424   The company promised free reloads upon initiat...   \n",
       "1066158                                                      \n",
       "747544   I have a rental property valued at {$50000.00}...   \n",
       "705491   To whom it may concern, I feel that freedom mo...   \n",
       "469993   HOW DO YOU LIKE THIS -- I REQUESTED MULTIPLE T...   \n",
       "\n",
       "                                        company state zip-code  \\\n",
       "1230226                    JPMORGAN CHASE & CO.    NJ    07882   \n",
       "1053933                  BARCLAYS BANK DELAWARE    OH    44107   \n",
       "2552754                          CITIBANK, N.A.    FL  33442.0   \n",
       "709745                     JPMORGAN CHASE & CO.    VA    23089   \n",
       "1201345   BANK OF AMERICA, NATIONAL ASSOCIATION    TX    78249   \n",
       "...                                         ...   ...      ...   \n",
       "458424                 AMERICAN EXPRESS COMPANY    TN    37620   \n",
       "1066158  TRANSUNION INTERMEDIATE HOLDINGS, INC.    NC    27612   \n",
       "747544                    WELLS FARGO & COMPANY    VA  23608.0   \n",
       "705491                 Freedom Mortgage Company    CA    95687   \n",
       "469993               LTD Financial Services, LP    TX    77523   \n",
       "\n",
       "                                response disputed  \n",
       "1230226               Closed with relief       No  \n",
       "1053933            Closed without relief      Yes  \n",
       "2552754               Closed with relief       No  \n",
       "709745             Closed without relief       No  \n",
       "1201345            Closed without relief       No  \n",
       "...                                  ...      ...  \n",
       "458424           Closed with explanation       No  \n",
       "1066158          Closed with explanation       No  \n",
       "747544           Closed with explanation       No  \n",
       "705491           Closed with explanation       No  \n",
       "469993   Closed with non-monetary relief      Yes  \n",
       "\n",
       "[514866 rows x 10 columns]"
      ]
     },
     "execution_count": 13,
     "metadata": {},
     "output_type": "execute_result"
    }
   ],
   "source": [
    "train"
   ]
  },
  {
   "cell_type": "code",
   "execution_count": 23,
   "id": "0483c54c",
   "metadata": {},
   "outputs": [],
   "source": [
    "# test.to_csv(\"test_ap.csv\",index=False)\n",
    "# train.to_csv(\"train_ap.csv\",index=False)\n"
   ]
  },
  {
   "cell_type": "code",
   "execution_count": null,
   "id": "a52622bd",
   "metadata": {},
   "outputs": [
    {
     "name": "stderr",
     "output_type": "stream",
     "text": [
      "2023-03-26 05:36:45.304074: I tensorflow/core/common_runtime/pluggable_device/pluggable_device_factory.cc:305] Could not identify NUMA node of platform GPU ID 0, defaulting to 0. Your kernel may not have been built with NUMA support.\n",
      "2023-03-26 05:36:45.304359: I tensorflow/core/common_runtime/pluggable_device/pluggable_device_factory.cc:271] Created TensorFlow device (/job:localhost/replica:0/task:0/device:GPU:0 with 0 MB memory) -> physical PluggableDevice (device: 0, name: METAL, pci bus id: <undefined>)\n"
     ]
    },
    {
     "name": "stdout",
     "output_type": "stream",
     "text": [
      "Metal device set to: Apple M1\n"
     ]
    }
   ],
   "source": [
    "loading the sparse array into memory\n",
    "\n",
    "# print(np.load('train.npy',allow_pickle=True))\n",
    "\n",
    "#doing transformer based UNIVERSAL SENTENCE ENCODING on narrative text based feature\n",
    "\n",
    "#https://arxiv.org/abs/1803.11175\n",
    "\n",
    "\n",
    "train=pd.read_csv(\"train_ap.csv\",on_bad_lines='skip')\n",
    "test=pd.read_csv(\"test_ap.csv\",on_bad_lines='skip')\n",
    "\n",
    "#fill in missing values\n",
    "train=train['narrative'].fillna(\" \")\n",
    "test=test['narrative'].fillna(\" \")\n",
    "\n",
    "#applying encoding\n",
    "embed_narrative_1 = embed(train)\n",
    "embed_narrative_2 = embed(test)\n",
    "\n",
    "#saving 512 dimensional embedding into disk\n",
    "np.save(\"train.npy\",embed_narrative_1)\n",
    "np.save(\"test.npy\",embed_narrative_2)\n"
   ]
  },
  {
   "cell_type": "code",
   "execution_count": null,
   "id": "e2977a4b",
   "metadata": {},
   "outputs": [],
   "source": []
  },
  {
   "cell_type": "code",
   "execution_count": null,
   "id": "7c26ab60",
   "metadata": {},
   "outputs": [],
   "source": []
  },
  {
   "cell_type": "code",
   "execution_count": null,
   "id": "d2691739",
   "metadata": {},
   "outputs": [],
   "source": [
    "preprocess_2(train,\"train.npy\")"
   ]
  },
  {
   "cell_type": "code",
   "execution_count": 32,
   "id": "be638a4a",
   "metadata": {},
   "outputs": [],
   "source": [
    "np.save(\"y_test.npy\",np.array(binarize_target(test['disputed']).tolist()))"
   ]
  },
  {
   "cell_type": "code",
   "execution_count": null,
   "id": "5ba8217c",
   "metadata": {},
   "outputs": [],
   "source": [
    "print(np.load('train.npy',allow_pickle=True))"
   ]
  },
  {
   "cell_type": "code",
   "execution_count": null,
   "id": "37c05137",
   "metadata": {},
   "outputs": [],
   "source": [
    "print(np.load('test.npy',allow_pickle=True))"
   ]
  },
  {
   "cell_type": "code",
   "execution_count": null,
   "id": "3e540a55",
   "metadata": {},
   "outputs": [],
   "source": []
  },
  {
   "cell_type": "code",
   "execution_count": null,
   "id": "d5458b4a",
   "metadata": {},
   "outputs": [],
   "source": []
  },
  {
   "cell_type": "code",
   "execution_count": 49,
   "id": "f39f1f29",
   "metadata": {},
   "outputs": [],
   "source": [
    "np.save(\"final_Test_text.npy\",np.concatenate(np.concatenate((np.load(\"test_text_1.npy\"),np.load(\"test_text_2.npy\"),np.load(\"test_text_3.npy\")),axis=0)))"
   ]
  },
  {
   "cell_type": "code",
   "execution_count": 46,
   "id": "f4cea187",
   "metadata": {},
   "outputs": [
    {
     "data": {
      "text/plain": [
       "(253591, 512)"
      ]
     },
     "execution_count": 46,
     "metadata": {},
     "output_type": "execute_result"
    }
   ],
   "source": [
    "np.concatenate((np.load(\"test_text_1.npy\"),np.load(\"test_text_2.npy\"),np.load(\"test_text_3.npy\")),axis=0).shape"
   ]
  },
  {
   "cell_type": "code",
   "execution_count": 21,
   "id": "cd162403",
   "metadata": {},
   "outputs": [
    {
     "name": "stdout",
     "output_type": "stream",
     "text": [
      "  (9276, 0)\t1.0\n",
      "  (9282, 0)\t1.0\n",
      "  (9291, 0)\t1.0\n",
      "  (9292, 0)\t1.0\n",
      "  (9296, 0)\t1.0\n",
      "  (9304, 0)\t1.0\n",
      "  (9310, 0)\t1.0\n",
      "  (9314, 0)\t1.0\n",
      "  (9315, 0)\t1.0\n",
      "  (9335, 0)\t1.0\n",
      "  (9339, 0)\t1.0\n",
      "  (9340, 0)\t1.0\n",
      "  (9341, 0)\t1.0\n",
      "  (9343, 0)\t1.0\n",
      "  (9344, 0)\t1.0\n",
      "  (9350, 0)\t1.0\n",
      "  (9352, 0)\t1.0\n",
      "  (9354, 0)\t1.0\n",
      "  (9359, 0)\t1.0\n",
      "  (9365, 0)\t1.0\n",
      "  (9366, 0)\t1.0\n",
      "  (9370, 0)\t1.0\n",
      "  (9373, 0)\t1.0\n",
      "  (9375, 0)\t1.0\n",
      "  (9382, 0)\t1.0\n",
      "  :\t:\n",
      "  (514841, 216)\t9020605440.0\n",
      "  (514842, 216)\t60007080.0\n",
      "  (514843, 216)\t8070100992.0\n",
      "  (514844, 216)\t7060001280.0\n",
      "  (514845, 216)\t2070600960.0\n",
      "  (514846, 216)\t9040100352.0\n",
      "  (514847, 216)\t9050601472.0\n",
      "  (514848, 216)\t7070405120.0\n",
      "  (514849, 216)\t6020199936.0\n",
      "  (514850, 216)\t9090305024.0\n",
      "  (514851, 216)\t100030005248.0\n",
      "  (514852, 216)\t3020302080.0\n",
      "  (514853, 216)\t9040501760.0\n",
      "  (514854, 216)\t2020400128.0\n",
      "  (514855, 216)\t2070600960.0\n",
      "  (514856, 216)\t70806064.0\n",
      "  (514857, 216)\t6000004096.0\n",
      "  (514858, 216)\t2070301056.0\n",
      "  (514859, 216)\t2090508032.0\n",
      "  (514860, 216)\t303000190976.0\n",
      "  (514861, 216)\t3070601984.0\n",
      "  (514862, 216)\t2070600960.0\n",
      "  (514863, 216)\t203060002816.0\n",
      "  (514864, 216)\t9050607616.0\n",
      "  (514865, 216)\t7070501888.0\n"
     ]
    }
   ],
   "source": [
    "print(np.load('train_new.npz.npy',allow_pickle=True))"
   ]
  },
  {
   "cell_type": "code",
   "execution_count": 20,
   "id": "cb9c0346",
   "metadata": {},
   "outputs": [
    {
     "name": "stdout",
     "output_type": "stream",
     "text": [
      "\u001b[34mData\u001b[m\u001b[m               preprocess.py      test_new.npz.npy   train_new.npz.npy\r\n",
      "Data_Clean_1.ipynb test.npy           train.npy          y_test.npy\r\n",
      "Untitled.ipynb     test.npz           train.npz          y_train.npy\r\n",
      "preprocess.ipynb   test_ap.csv        train_ap.csv\r\n"
     ]
    }
   ],
   "source": [
    "!ls"
   ]
  },
  {
   "cell_type": "code",
   "execution_count": null,
   "id": "3d0ade4d",
   "metadata": {},
   "outputs": [],
   "source": []
  }
 ],
 "metadata": {
  "kernelspec": {
   "display_name": "Python 3 (ipykernel)",
   "language": "python",
   "name": "python3"
  },
  "language_info": {
   "codemirror_mode": {
    "name": "ipython",
    "version": 3
   },
   "file_extension": ".py",
   "mimetype": "text/x-python",
   "name": "python",
   "nbconvert_exporter": "python",
   "pygments_lexer": "ipython3",
   "version": "3.9.10"
  }
 },
 "nbformat": 4,
 "nbformat_minor": 5
}
