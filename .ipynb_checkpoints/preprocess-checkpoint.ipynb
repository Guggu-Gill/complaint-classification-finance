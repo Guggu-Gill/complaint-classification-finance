{
 "cells": [
  {
   "cell_type": "code",
   "execution_count": 115,
   "id": "799b8586",
   "metadata": {},
   "outputs": [],
   "source": [
    "import numpy as np\n",
    "import pandas as pd\n",
    "import matplotlib.pyplot as plt\n",
    "import seaborn as sns\n",
    "import plotly.express as px\n",
    "import tensorflow as tf\n",
    "from sklearn import preprocessing\n",
    "from sklearn.preprocessing import OneHotEncoder\n",
    "import re\n",
    "from sklearn import preprocessing\n",
    "from tqdm import tqdm\n",
    "import scipy\n",
    "from imblearn.under_sampling import RandomUnderSampler\n",
    "import tensorflow as tf\n",
    "import tensorflow_hub as hub\n",
    "from sklearn.model_selection import train_test_split"
   ]
  },
  {
   "cell_type": "code",
   "execution_count": null,
   "id": "9097f795",
   "metadata": {},
   "outputs": [],
   "source": []
  },
  {
   "cell_type": "code",
   "execution_count": 103,
   "id": "1ecb61eb",
   "metadata": {},
   "outputs": [
    {
     "name": "stderr",
     "output_type": "stream",
     "text": [
      "/var/folders/k4/29bygr_s3mv0rn4yh7_rvtmm0000gn/T/ipykernel_3426/214983368.py:1: DtypeWarning: Columns (10) have mixed types. Specify dtype option on import or set low_memory=False.\n",
      "  df=pd.read_csv(\"compl.csv\")\n"
     ]
    }
   ],
   "source": [
    "df=pd.read_csv(\"compl.csv\")"
   ]
  },
  {
   "cell_type": "code",
   "execution_count": 104,
   "id": "5f88f59e",
   "metadata": {},
   "outputs": [
    {
     "data": {
      "text/html": [
       "<div>\n",
       "<style scoped>\n",
       "    .dataframe tbody tr th:only-of-type {\n",
       "        vertical-align: middle;\n",
       "    }\n",
       "\n",
       "    .dataframe tbody tr th {\n",
       "        vertical-align: top;\n",
       "    }\n",
       "\n",
       "    .dataframe thead th {\n",
       "        text-align: right;\n",
       "    }\n",
       "</style>\n",
       "<table border=\"1\" class=\"dataframe\">\n",
       "  <thead>\n",
       "    <tr style=\"text-align: right;\">\n",
       "      <th></th>\n",
       "      <th>Unnamed: 0</th>\n",
       "      <th>Date received</th>\n",
       "      <th>Product</th>\n",
       "      <th>Sub-product</th>\n",
       "      <th>Issue</th>\n",
       "      <th>Sub-issue</th>\n",
       "      <th>Consumer complaint narrative</th>\n",
       "      <th>Company public response</th>\n",
       "      <th>Company</th>\n",
       "      <th>State</th>\n",
       "      <th>ZIP code</th>\n",
       "      <th>Tags</th>\n",
       "      <th>Consumer consent provided?</th>\n",
       "      <th>Submitted via</th>\n",
       "      <th>Date sent to company</th>\n",
       "      <th>Company response to consumer</th>\n",
       "      <th>Timely response?</th>\n",
       "      <th>Consumer disputed?</th>\n",
       "      <th>Complaint ID</th>\n",
       "    </tr>\n",
       "  </thead>\n",
       "  <tbody>\n",
       "    <tr>\n",
       "      <th>0</th>\n",
       "      <td>45</td>\n",
       "      <td>2020-10-28</td>\n",
       "      <td>Debt collection</td>\n",
       "      <td>I do not know</td>\n",
       "      <td>Communication tactics</td>\n",
       "      <td>Frequent or repeated calls</td>\n",
       "      <td>STOP ALL CALLS</td>\n",
       "      <td>NaN</td>\n",
       "      <td>Lending Club Corp</td>\n",
       "      <td>FL</td>\n",
       "      <td>33309.0</td>\n",
       "      <td>NaN</td>\n",
       "      <td>Consent provided</td>\n",
       "      <td>Web</td>\n",
       "      <td>2020-10-28</td>\n",
       "      <td>Closed with non-monetary relief</td>\n",
       "      <td>No</td>\n",
       "      <td>NaN</td>\n",
       "      <td>4485088</td>\n",
       "    </tr>\n",
       "    <tr>\n",
       "      <th>1</th>\n",
       "      <td>90</td>\n",
       "      <td>2020-10-29</td>\n",
       "      <td>Debt collection</td>\n",
       "      <td>Medical debt</td>\n",
       "      <td>Attempts to collect debt not owed</td>\n",
       "      <td>Debt is not yours</td>\n",
       "      <td>Original creditor : XXXX XXXX XXXX XXXX  XXXX ...</td>\n",
       "      <td>NaN</td>\n",
       "      <td>Dynamic Recovery Solutions, LLC</td>\n",
       "      <td>NJ</td>\n",
       "      <td>8322.0</td>\n",
       "      <td>NaN</td>\n",
       "      <td>Consent provided</td>\n",
       "      <td>Web</td>\n",
       "      <td>2020-10-29</td>\n",
       "      <td>Closed with non-monetary relief</td>\n",
       "      <td>Yes</td>\n",
       "      <td>NaN</td>\n",
       "      <td>4496460</td>\n",
       "    </tr>\n",
       "    <tr>\n",
       "      <th>2</th>\n",
       "      <td>124</td>\n",
       "      <td>2020-07-27</td>\n",
       "      <td>Money transfer, virtual currency, or money ser...</td>\n",
       "      <td>Mobile or digital wallet</td>\n",
       "      <td>Unexpected or other fees</td>\n",
       "      <td>NaN</td>\n",
       "      <td>On XX/XX/2020, I sold a bike using XXXX XXXX. ...</td>\n",
       "      <td>NaN</td>\n",
       "      <td>Paypal Holdings, Inc</td>\n",
       "      <td>TX</td>\n",
       "      <td>76137.0</td>\n",
       "      <td>NaN</td>\n",
       "      <td>Consent provided</td>\n",
       "      <td>Web</td>\n",
       "      <td>2020-07-27</td>\n",
       "      <td>Closed with non-monetary relief</td>\n",
       "      <td>Yes</td>\n",
       "      <td>NaN</td>\n",
       "      <td>5018142</td>\n",
       "    </tr>\n",
       "  </tbody>\n",
       "</table>\n",
       "</div>"
      ],
      "text/plain": [
       "   Unnamed: 0 Date received  \\\n",
       "0          45    2020-10-28   \n",
       "1          90    2020-10-29   \n",
       "2         124    2020-07-27   \n",
       "\n",
       "                                             Product  \\\n",
       "0                                    Debt collection   \n",
       "1                                    Debt collection   \n",
       "2  Money transfer, virtual currency, or money ser...   \n",
       "\n",
       "                Sub-product                              Issue  \\\n",
       "0             I do not know              Communication tactics   \n",
       "1              Medical debt  Attempts to collect debt not owed   \n",
       "2  Mobile or digital wallet           Unexpected or other fees   \n",
       "\n",
       "                    Sub-issue  \\\n",
       "0  Frequent or repeated calls   \n",
       "1           Debt is not yours   \n",
       "2                         NaN   \n",
       "\n",
       "                        Consumer complaint narrative Company public response  \\\n",
       "0                                     STOP ALL CALLS                     NaN   \n",
       "1  Original creditor : XXXX XXXX XXXX XXXX  XXXX ...                     NaN   \n",
       "2  On XX/XX/2020, I sold a bike using XXXX XXXX. ...                     NaN   \n",
       "\n",
       "                           Company State ZIP code Tags  \\\n",
       "0                Lending Club Corp    FL  33309.0  NaN   \n",
       "1  Dynamic Recovery Solutions, LLC    NJ   8322.0  NaN   \n",
       "2             Paypal Holdings, Inc    TX  76137.0  NaN   \n",
       "\n",
       "  Consumer consent provided? Submitted via Date sent to company  \\\n",
       "0           Consent provided           Web           2020-10-28   \n",
       "1           Consent provided           Web           2020-10-29   \n",
       "2           Consent provided           Web           2020-07-27   \n",
       "\n",
       "      Company response to consumer Timely response? Consumer disputed?  \\\n",
       "0  Closed with non-monetary relief               No                NaN   \n",
       "1  Closed with non-monetary relief              Yes                NaN   \n",
       "2  Closed with non-monetary relief              Yes                NaN   \n",
       "\n",
       "   Complaint ID  \n",
       "0       4485088  \n",
       "1       4496460  \n",
       "2       5018142  "
      ]
     },
     "execution_count": 104,
     "metadata": {},
     "output_type": "execute_result"
    }
   ],
   "source": [
    "df.head(3)"
   ]
  },
  {
   "cell_type": "code",
   "execution_count": 105,
   "id": "18d70e89",
   "metadata": {},
   "outputs": [],
   "source": [
    "df=df.drop(\"Unnamed: 0\",axis=1)"
   ]
  },
  {
   "cell_type": "code",
   "execution_count": 106,
   "id": "504cf73f",
   "metadata": {},
   "outputs": [
    {
     "data": {
      "text/plain": [
       "(976684, 18)"
      ]
     },
     "execution_count": 106,
     "metadata": {},
     "output_type": "execute_result"
    }
   ],
   "source": [
    "df.shape"
   ]
  },
  {
   "cell_type": "code",
   "execution_count": 107,
   "id": "92614b38",
   "metadata": {},
   "outputs": [],
   "source": [
    "# df=df[df['Consumer disputed?'].notna()]\n",
    "# df=df.drop([\"Complaint ID\",\"Timely response?\",\"Date sent to company\",\"Tags\",\"Submitted via\",\"Company public response\",\"Consumer consent provided?\",\"Sub-issue\"],axis=1)"
   ]
  },
  {
   "cell_type": "code",
   "execution_count": 108,
   "id": "939f24db",
   "metadata": {},
   "outputs": [],
   "source": [
    "# df.isna().sum()"
   ]
  },
  {
   "cell_type": "code",
   "execution_count": 109,
   "id": "f9c472be",
   "metadata": {},
   "outputs": [
    {
     "data": {
      "text/plain": [
       "Index(['Date received', 'Product', 'Sub-product', 'Issue', 'Sub-issue',\n",
       "       'Consumer complaint narrative', 'Company public response', 'Company',\n",
       "       'State', 'ZIP code', 'Tags', 'Consumer consent provided?',\n",
       "       'Submitted via', 'Date sent to company', 'Company response to consumer',\n",
       "       'Timely response?', 'Consumer disputed?', 'Complaint ID'],\n",
       "      dtype='object')"
      ]
     },
     "execution_count": 109,
     "metadata": {},
     "output_type": "execute_result"
    }
   ],
   "source": [
    "df.columns"
   ]
  },
  {
   "cell_type": "code",
   "execution_count": 110,
   "id": "161c9da5",
   "metadata": {},
   "outputs": [],
   "source": [
    "COLN=['Date received','Product','Sub-product','Issue','Consumer complaint narrative','Company','State','ZIP code','Company response to consumer','Consumer disputed?']\n",
    "# ONE_HOT_ENC=['product','sub-product','issue', 'company', 'state','response']\n",
    "ONE_HOT_ENC=['product','sub-product','issue', 'state','response']\n",
    "FILL_MISSING=[\"sub-product\",\"state\",\"zip-code\",\"narrative\"]\n",
    "def print_unique_values(df,coln):\n",
    "    arr=np.unique(df[coln].to_list())\n",
    "    for i in range(len(arr)):\n",
    "        print(i,\"--\",arr[i])\n",
    "    del arr\n",
    "    \n",
    "#pre processing function\n",
    "def fill_in_missing(df,coln):\n",
    "    df[coln]=df[coln].fillna(\"\")\n",
    "    return df\n",
    "    \n",
    "\n",
    "def transform_name(df):\n",
    "    df=df[df['Consumer disputed?'].notna()]\n",
    "    df=df.drop([\"Complaint ID\",\"Timely response?\",\"Date sent to company\",\"Tags\",\"Submitted via\",\"Company public response\",\"Consumer consent provided?\",\"Sub-issue\"],axis=1)\n",
    "    df.columns=['date-received', 'product', 'sub-product', 'issue','narrative', 'company', 'state', 'zip-code','response', 'disputed']\n",
    "    return df\n",
    "\n",
    "def one_hot_enc(df,coln):\n",
    "    enc = OneHotEncoder(handle_unknown='ignore')\n",
    "    enc.fit(np.array(df[coln]))\n",
    "    s=enc.transform(np.array(df[coln]))\n",
    "    return s.toarray()\n",
    "\n",
    "def binarize_target(x):\n",
    "    lb = preprocessing.LabelBinarizer()\n",
    "    lb.fit(['No','Yes'])\n",
    "    return lb.transform(x)\n",
    "\n",
    "\n",
    "def convert_zip_code(zip_code):\n",
    "    if zip_code == '':\n",
    "        zip_code = \"00000\"\n",
    "    zip_code=re.sub(\"[^0-9]\", \"\",zip_code)\n",
    "    zip_code = re.sub(r'X{0,5}', \"0\", zip_code)\n",
    "    zip_code = np.float32(zip_code)\n",
    "    return zip_code\n"
   ]
  },
  {
   "cell_type": "code",
   "execution_count": 111,
   "id": "4bec946a",
   "metadata": {},
   "outputs": [
    {
     "data": {
      "text/plain": [
       "80901010.0"
      ]
     },
     "execution_count": 111,
     "metadata": {},
     "output_type": "execute_result"
    }
   ],
   "source": [
    "convert_zip_code(\"89-11\")"
   ]
  },
  {
   "cell_type": "code",
   "execution_count": 112,
   "id": "9ef2c450",
   "metadata": {},
   "outputs": [],
   "source": [
    "# Credits https://www.kaggle.com/code/ashwinids/cleaning-exploring-consumer-complaints-data\n",
    "mapping_old2new = {\n",
    "    \"Auto\": \"Auto debt\",\n",
    "    \"Credit card\": \"Credit card debt\",\n",
    "    \"Federal student loan\": \"Federal student loan debt\",\n",
    "    \"Medical\": \"Medical debt\",\n",
    "    \"Mortgage\": \"Mortgage debt\",\n",
    "    \"Non-federal student loan\": \"Private student loan debt\",\n",
    "    \"Other (i.e. phone, health club, etc.)\": \"Other debt\",\n",
    "    \"Payday loan\": \"Payday loan debt\",\n",
    "    \"Non-federal student loan\": \"Private student loan\",\n",
    "    \"Federal student loan servicing\": \"Federal student loan\",\n",
    "    \"Credit repair\": \"Credit repair services\",\n",
    "    \"Credit reporting\": \"Credit reporting\",\n",
    "    \"Conventional adjustable mortgage (ARM)\": \"Conventional home mortgage\",\n",
    "    \"Conventional fixed mortgage\": \"Conventional home mortgage\",\n",
    "    \"Home equity loan or line of credit\": \"Home equity loan or line of credit (HELOC)\",\n",
    "    \"Other\": \"Other type of mortgage\",\n",
    "    \"Other mortgage\": \"Other type of mortgage\",\n",
    "    \"Second mortgage\":\"Other type of mortgage\",\n",
    "    \"Credit card\": \"General-purpose credit card or charge card\",\n",
    "    \"General purpose card\": \"General-purpose prepaid card\",\n",
    "    \"Gift or merchant card\": \"Gift card\",\n",
    "    \"Electronic Benefit Transfer / EBT card\": \"Government benefit card\",\n",
    "    \"Government benefit payment card\": \"Government benefit card\",\n",
    "    \"ID prepaid card\": \"Student prepaid card\",\n",
    "    \"Other special purpose card\":  \"Other prepaid card\",\n",
    "    \"Store credit card\": \"Other prepaid card\",\n",
    "    \"Transit card\": \"Other prepaid card\",\n",
    "    \"(CD) Certificate of deposit\": \"CD (Certificate of Deposit)\",\n",
    "    \"Other bank product/service\": \"Other banking product or service\",\n",
    "    \"Cashing a check without an account\": \"Other banking product or service\",\n",
    "    \"Vehicle lease\": \"Lease\",\n",
    "    \"Vehicle loan\": \"Loan\",\n",
    "    \"Check cashing\": \"Check cashing service\",\n",
    "    \"Mobile wallet\": \"Mobile or digital wallet\",\n",
    "    \"Traveler’s/Cashier’s checks\": \"Traveler's check or cashier's check\"\n",
    "}\n",
    "prod2sub = {\n",
    "    \"Auto debt\": \"Debt collection\",\n",
    "    \"Credit card debt\": \"Debt collection\",\n",
    "    \"Federal student loan debt\": \"Debt collection\",\n",
    "    \"I do not know\": \"Debt collection\",\n",
    "    \"Medical debt\": \"Debt collection\",\n",
    "    \"Mortgage debt\": \"Debt collection\",\n",
    "    \"Private student loan debt\": \"Debt collection\",\n",
    "    \"Other debt\": \"Debt collection\",\n",
    "    \"Payday loan debt\": \"Debt collection\",\n",
    "    \"Credit repair services\": \"Credit reporting, credit repair services, or other personal consumer reports\",\n",
    "    \"Credit reporting\": \"Credit reporting, credit repair services, or other personal consumer reports\",\n",
    "    \"Other personal consumer report\": \"Credit reporting, credit repair services, or other personal consumer reports\",\n",
    "    \"Conventional home mortgage\": \"Mortgage\",\n",
    "    \"FHA mortgage\": \"Mortgage\",\n",
    "    \"Home equity loan or line of credit (HELOC)\": \"Mortgage\",\n",
    "    \"Other type of mortgage\": \"Mortgage\",\n",
    "    \"Reverse mortgage\": \"Mortgage\",\n",
    "    \"VA mortgage\": \"Mortgage\",\n",
    "    \"General-purpose credit card or charge card\": \"Credit card or prepaid card\",\n",
    "    \"General-purpose prepaid card\": \"Credit card or prepaid card\",\n",
    "    \"Gift card\": \"Credit card or prepaid card\",\n",
    "    \"Government benefit card\": \"Credit card or prepaid card\",\n",
    "    \"Student prepaid card\": \"Credit card or prepaid card\",\n",
    "    \"Payroll card\": \"Credit card or prepaid card\",\n",
    "    \"Other prepaid card\": \"Credit card or prepaid card\",\n",
    "    \"CD (Certificate of Deposit)\": \"Checking or savings account\",\n",
    "    \"Checking account\": \"Checking or savings account\",\n",
    "    \"Other banking product or service\": \"Checking or savings account\",\n",
    "    \"Savings account\": \"Checking or savings account\",\n",
    "    \"Lease\": \"Vehicle loan or lease\",\n",
    "    \"Loan\": \"Vehicle loan or lease\",\n",
    "    \"Federal student loan\": \"Student loan\",\n",
    "    \"Private student loan\": \"Student loan\",\n",
    "    \"Installment loan\": \"Payday loan, title loan, or personal loan\",\n",
    "    \"Pawn loan\": \"Payday loan, title loan, or personal loan\",\n",
    "    \"Payday loan\": \"Payday loan, title loan, or personal loan\",\n",
    "    \"Personal line of credit\": \"Payday loan, title loan, or personal loan\",\n",
    "    \"Title loan\": \"Payday loan, title loan, or personal loan\",\n",
    "    \"Check cashing service\": \"Money transfer, virtual currency, or money service\",\n",
    "    \"Debt settlement\": \"Money transfer, virtual currency, or money service\",\n",
    "    \"Domestic (US) money transfer\": \"Money transfer, virtual currency, or money service\",\n",
    "    \"Foreign currency exchange\": \"Money transfer, virtual currency, or money service\",\n",
    "    \"International money transfer\": \"Money transfer, virtual currency, or money service\",\n",
    "    \"Mobile or digital wallet\": \"Money transfer, virtual currency, or money service\",\n",
    "    \"Money order\": \"Money transfer, virtual currency, or money service\",\n",
    "    \"Refund anticipation check\": \"Money transfer, virtual currency, or money service\",\n",
    "    \"Traveler's check or cashier's check\": \"Money transfer, virtual currency, or money service\",\n",
    "    \"Virtual currency\": \"Money transfer, virtual currency, or money service\",\n",
    "    \"Not given\":\"Not given\"\n",
    "}\n",
    "\n",
    "# Credits https://www.kaggle.com/code/ashwinids/cleaning-exploring-consumer-complaints-data\n",
    "\n",
    "def get_subprods(x):\n",
    "    \n",
    "    if x['sub-product'] in mapping_old2new:\n",
    "        if x['sub-product']==\"Other\":\n",
    "            if x['product']=='Mortage':\n",
    "                return(\"Other type of mortgage\")\n",
    "            else:\n",
    "                return(\"Other debt\")\n",
    "        else:\n",
    "            return(mapping_old2new[x['sub-product']])\n",
    "    else:\n",
    "        return(x['sub-product'])\n",
    "\n",
    "\n",
    "\n",
    "# Credits https://www.kaggle.com/code/ashwinids/cleaning-exploring-consumer-complaints-data\n",
    "\n",
    "prodmap = {\n",
    "    \"Payday loan\": \"Payday loan, title loan, or personal loan\",\n",
    "    \"Credit reporting\": \"Credit reporting, credit repair services, or other personal consumer reports\",\n",
    "    \"Credit card\": \"Credit card or prepaid card\"\n",
    "}\n",
    "def get_product(x):\n",
    "    \n",
    "    if not isinstance(x['sub-product'], str):\n",
    "        if x['product'] in prodmap:\n",
    "            return(prodmap[x['product']])\n",
    "        else:\n",
    "            return(x['product'])\n",
    "    else:\n",
    "        return(prod2sub[x['sub-product']])\n",
    "\n"
   ]
  },
  {
   "cell_type": "code",
   "execution_count": 113,
   "id": "96e5b019",
   "metadata": {},
   "outputs": [],
   "source": [
    "def map_values(df):\n",
    "    df['sub-product'] = df[['product','sub-product']].apply(lambda x: get_subprods(x), axis =1)\n",
    "    df['product'] = df[['product','sub-product']].apply(lambda x: get_product(x), axis =1)\n",
    "    return df"
   ]
  },
  {
   "cell_type": "code",
   "execution_count": 128,
   "id": "b017242d",
   "metadata": {},
   "outputs": [],
   "source": [
    "def preprocess_time(df):\n",
    "    df=transform_name(df)\n",
    "    df=map_values(df)\n",
    "    df=fill_in_missing(df,FILL_MISSING)\n",
    "    #time based splitting\n",
    "    df=df.sort_values(\"date-received\")\n",
    "    train=df.iloc[0:int(np.floor(df.shape[0]*0.67)),:]\n",
    "    test=df.iloc[int(np.floor(df.shape[0]*0.67)):,:]\n",
    "    #time based splitting\n",
    "    return train,test\n",
    "\n",
    "def preprocess(df):\n",
    "    df=transform_name(df)\n",
    "    df=map_values(df)\n",
    "    df=fill_in_missing(df,FILL_MISSING)\n",
    "    X_train, X_test, y_train, y_test = train_test_split(df.drop(\"disputed\",axis=1), df['disputed'], test_size=0.33, random_state=42)\n",
    "    \n",
    "    return X_train, X_test, binarize_target(y_train), binarize_target(y_test)\n",
    "\n",
    "def preprocess_under(X,y):\n",
    "    rus = RandomUnderSampler(random_state=0)\n",
    "#     df['disputed']=binarize_target(df['disputed'])\n",
    "    X_resampled, y_resampled = rus.fit_resample(X, y)\n",
    "    return X_resampled,y_resampled\n",
    "\n",
    "def preprocess_2(df,filename):\n",
    "    #binning of zipcode\n",
    "    arr=[]\n",
    "    lent=df.shape[0]\n",
    "    zip_code=list(map(str,df['zip-code'].tolist()))\n",
    "    for i in tqdm(range(0,lent)):\n",
    "        arr.append(convert_zip_code(zip_code[i]))\n",
    "    arr=np.array(arr)\n",
    "    del zip_code\n",
    "    \n",
    "    #one hot encoding of features\n",
    "    frst=one_hot_enc(train,ONE_HOT_ENC)\n",
    "    scnd=np.array(arr)\n",
    "    del arr\n",
    "    \n",
    "    arr2=[]\n",
    "    for i in tqdm(range(scnd.shape[0])):\n",
    "        arr2.append(np.concatenate((frst[i],[scnd[i]]),axis=0))\n",
    "    arr2=np.array(arr2)\n",
    "    del frst \n",
    "    del scnd\n",
    "    \n",
    "    sparse_matrix=scipy.sparse.csc_matrix(np.array(arr2))\n",
    "    del arr2\n",
    "    scipy.sparse.save_npz(filename,sparse_matrix)\n",
    "#     np.save(filename,sparse_matrix)\n"
   ]
  },
  {
   "cell_type": "code",
   "execution_count": null,
   "id": "29bc5f13",
   "metadata": {},
   "outputs": [],
   "source": [
    "\n"
   ]
  },
  {
   "cell_type": "code",
   "execution_count": 121,
   "id": "58e028c4",
   "metadata": {},
   "outputs": [
    {
     "data": {
      "text/plain": [
       "Date received                     2730\n",
       "Product                             18\n",
       "Sub-product                         75\n",
       "Issue                              160\n",
       "Sub-issue                          216\n",
       "Consumer complaint narrative    861635\n",
       "Company public response             11\n",
       "Company                           5336\n",
       "State                               63\n",
       "ZIP code                         56563\n",
       "Tags                                 3\n",
       "Consumer consent provided?           1\n",
       "Submitted via                        1\n",
       "Date sent to company              2723\n",
       "Company response to consumer         6\n",
       "Timely response?                     2\n",
       "Consumer disputed?                   2\n",
       "Complaint ID                    976684\n",
       "dtype: int64"
      ]
     },
     "execution_count": 121,
     "metadata": {},
     "output_type": "execute_result"
    }
   ],
   "source": [
    "df.nunique()"
   ]
  },
  {
   "cell_type": "code",
   "execution_count": 122,
   "id": "86b9339c",
   "metadata": {},
   "outputs": [],
   "source": [
    "X_train, X_test, y_train, y_test=preprocess(df)\n",
    "# del train\n",
    "del df"
   ]
  },
  {
   "cell_type": "code",
   "execution_count": 125,
   "id": "bf3e3fe6",
   "metadata": {},
   "outputs": [
    {
     "name": "stdout",
     "output_type": "stream",
     "text": [
      "\u001b[34mData\u001b[m\u001b[m                     \u001b[34mnew_data_2\u001b[m\u001b[m               test_fn_new\r\n",
      "Data_Clean_1.ipynb       notebook6d1fb29d7e.ipynb train.npy\r\n",
      "Untitled.ipynb           preprocess copy.ipynb    train.npz\r\n",
      "compl.csv                preprocess.ipynb         train_ap.csv\r\n",
      "file.zip                 preprocess.py            train_new.npz\r\n",
      "\u001b[34mfinal_data\u001b[m\u001b[m               test.npy                 y_test.npy\r\n",
      "\u001b[34mguggu\u001b[m\u001b[m                    test.npz                 y_train.npy\r\n",
      "\u001b[34mnew_data\u001b[m\u001b[m                 test_ap.csv\r\n"
     ]
    }
   ],
   "source": [
    "!ls "
   ]
  },
  {
   "cell_type": "code",
   "execution_count": 127,
   "id": "737ffb98",
   "metadata": {},
   "outputs": [
    {
     "name": "stderr",
     "output_type": "stream",
     "text": [
      "100%|█████████████████████████████████| 54141/54141 [00:00<00:00, 324166.49it/s]\n",
      "100%|█████████████████████████████████| 54141/54141 [00:00<00:00, 368085.64it/s]\n"
     ]
    }
   ],
   "source": [
    "preprocess_2(X_test,\"guggu/X_test.npy\")\n",
    "np.save(\"guggu/y_test.npy\",y_test)"
   ]
  },
  {
   "cell_type": "code",
   "execution_count": 129,
   "id": "12927cbf",
   "metadata": {},
   "outputs": [],
   "source": [
    "X_train_sam,y_train_sam=preprocess_under(X_train,y_train)"
   ]
  },
  {
   "cell_type": "code",
   "execution_count": 144,
   "id": "3bc6aeae",
   "metadata": {},
   "outputs": [],
   "source": [
    "np.save(\"guggu/X_train_nar\",X_train_sam['narrative'])\n",
    "np.save(\"guggu/X_test_nar\",X_test['narrative'])"
   ]
  },
  {
   "cell_type": "code",
   "execution_count": 130,
   "id": "14d7171c",
   "metadata": {},
   "outputs": [
    {
     "name": "stderr",
     "output_type": "stream",
     "text": [
      "100%|█████████████████████████████████| 48182/48182 [00:00<00:00, 326108.81it/s]\n",
      "100%|█████████████████████████████████| 48182/48182 [00:00<00:00, 303539.10it/s]\n"
     ]
    }
   ],
   "source": [
    "preprocess_2(X_train_sam,\"guggu/X_train.npy\")\n",
    "np.save(\"guggu/y_train.npy\",y_train_sam)"
   ]
  },
  {
   "cell_type": "code",
   "execution_count": null,
   "id": "8b9efdbf",
   "metadata": {},
   "outputs": [],
   "source": []
  },
  {
   "cell_type": "code",
   "execution_count": 137,
   "id": "de3c50b7",
   "metadata": {},
   "outputs": [
    {
     "data": {
      "text/plain": [
       "((48182, 211), (54141, 211))"
      ]
     },
     "execution_count": 137,
     "metadata": {},
     "output_type": "execute_result"
    }
   ],
   "source": [
    "scipy.sparse.load_npz('guggu/X_train.npy.npz').shape,scipy.sparse.load_npz('guggu/X_test.npy.npz').shape"
   ]
  },
  {
   "cell_type": "code",
   "execution_count": 138,
   "id": "0eb744b9",
   "metadata": {},
   "outputs": [
    {
     "data": {
      "text/plain": [
       "((48182,), (54141, 1))"
      ]
     },
     "execution_count": 138,
     "metadata": {},
     "output_type": "execute_result"
    }
   ],
   "source": [
    "np.load('guggu/y_train.npy').shape,np.load('guggu/y_test.npy').shape"
   ]
  },
  {
   "cell_type": "code",
   "execution_count": 141,
   "id": "85a4c04e",
   "metadata": {},
   "outputs": [
    {
     "data": {
      "text/plain": [
       "(54141,)"
      ]
     },
     "execution_count": 141,
     "metadata": {},
     "output_type": "execute_result"
    }
   ],
   "source": [
    "np.load(\"guggu/y_test.npy\").ravel().shape"
   ]
  },
  {
   "cell_type": "code",
   "execution_count": null,
   "id": "8a618033",
   "metadata": {},
   "outputs": [],
   "source": []
  }
 ],
 "metadata": {
  "kernelspec": {
   "display_name": "Python 3 (ipykernel)",
   "language": "python",
   "name": "python3"
  },
  "language_info": {
   "codemirror_mode": {
    "name": "ipython",
    "version": 3
   },
   "file_extension": ".py",
   "mimetype": "text/x-python",
   "name": "python",
   "nbconvert_exporter": "python",
   "pygments_lexer": "ipython3",
   "version": "3.9.10"
  }
 },
 "nbformat": 4,
 "nbformat_minor": 5
}
